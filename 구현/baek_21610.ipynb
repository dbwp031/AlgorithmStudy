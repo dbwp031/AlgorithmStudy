{
 "cells": [
  {
   "cell_type": "markdown",
   "metadata": {},
   "source": [
    "시간초과: new_clouds를 \"in\" 함수로 찾을 때\n",
    "---"
   ]
  },
  {
   "cell_type": "code",
   "execution_count": null,
   "metadata": {},
   "outputs": [],
   "source": [
    "n,m = map(int,input().split())\n",
    "board = []\n",
    "for _ in range(n):\n",
    "    board.append(list(map(int,input().split())))\n",
    "moves = []\n",
    "for _ in range(m):\n",
    "    a,b = map(int,input().split())\n",
    "    a-=1\n",
    "    moves.append([a,b])\n",
    "#     왼 왼위 위 위오 오\n",
    "dx = [0, -1,-1, -1,0,1,1, 1]\n",
    "dy = [-1,-1, 0, 1, 1,1,0,-1]\n",
    "# 왼위 왼아 오위 오아\n",
    "gx = [-1,+1,-1,+1]\n",
    "gy = [-1,-1,+1,+1]\n",
    "\n",
    "clouds = [[n-2,0],[n-2,1],[n-1,0],[n-1,1]]\n",
    "\n",
    "for move in moves:\n",
    "    d,cnt = move\n",
    "    for _ in range(cnt):\n",
    "        for i in range(len(clouds)):\n",
    "            clouds[i][0] = (clouds[i][0]+dx[d]) % n\n",
    "            clouds[i][1] = (clouds[i][1]+dy[d]) % n\n",
    "    \n",
    "    for cloud in clouds:\n",
    "        x,y=cloud\n",
    "        board[x][y]+=1\n",
    "    for cloud in clouds:\n",
    "        x,y= cloud\n",
    "        for g in range(4):\n",
    "            nx = x + gx[g]\n",
    "            ny = y + gy[g]\n",
    "            if 0<=nx<=n-1 and 0<=ny<=n-1 and board[nx][ny] != 0:\n",
    "                board[x][y]+=1\n",
    "    new_clouds = []\n",
    "    for x in range(n):\n",
    "        for y in range(n):\n",
    "            if board[x][y] >=2 and [x,y] not in clouds:\n",
    "                board[x][y]-=2\n",
    "                new_clouds.append([x,y])\n",
    "    clouds = new_clouds\n",
    "answer = 0\n",
    "for x in range(n):\n",
    "    for y in range(n):\n",
    "        answer +=board[x][y]\n",
    "\n",
    "print(answer)"
   ]
  },
  {
   "cell_type": "markdown",
   "metadata": {},
   "source": [
    "in 대신 visited로 구현했을때\n",
    "---"
   ]
  },
  {
   "cell_type": "code",
   "execution_count": null,
   "metadata": {},
   "outputs": [],
   "source": [
    "n,m = map(int,input().split())\n",
    "board = []\n",
    "for _ in range(n):\n",
    "    board.append(list(map(int,input().split())))\n",
    "moves = []\n",
    "for _ in range(m):\n",
    "    a,b = map(int,input().split())\n",
    "    a-=1\n",
    "    moves.append([a,b])\n",
    "#     왼 왼위 위 위오 오\n",
    "dx = [0, -1,-1, -1,0,1,1, 1]\n",
    "dy = [-1,-1, 0, 1, 1,1,0,-1]\n",
    "# 왼위 왼아 오위 오아\n",
    "gx = [-1,+1,-1,+1]\n",
    "gy = [-1,-1,+1,+1]\n",
    "\n",
    "clouds = [[n-2,0],[n-2,1],[n-1,0],[n-1,1]]\n",
    "\n",
    "for move in moves:\n",
    "    visited = [[False]*n for _ in range(n)]\n",
    "    d,cnt = move\n",
    "    for _ in range(cnt):\n",
    "        for i in range(len(clouds)):\n",
    "            clouds[i][0] = (clouds[i][0]+dx[d]) % n\n",
    "            clouds[i][1] = (clouds[i][1]+dy[d]) % n\n",
    "    \n",
    "    for cloud in clouds:\n",
    "        visited[x][y]=True\n",
    "        x,y=cloud\n",
    "        board[x][y]+=1\n",
    "    for cloud in clouds:\n",
    "        x,y= cloud\n",
    "        for g in range(4):\n",
    "            nx = x + gx[g]\n",
    "            ny = y + gy[g]\n",
    "            if 0<=nx<=n-1 and 0<=ny<=n-1 and board[nx][ny] != 0:\n",
    "                board[x][y]+=1\n",
    "    new_clouds = []\n",
    "    for x in range(n):\n",
    "        for y in range(n):\n",
    "            if board[x][y] >=2 and not visited[x][y]:\n",
    "                board[x][y]-=2\n",
    "                new_clouds.append([x,y])\n",
    "    clouds = new_clouds\n",
    "answer = 0\n",
    "for x in range(n):\n",
    "    for y in range(n):\n",
    "        answer +=board[x][y]\n",
    "\n",
    "print(answer)"
   ]
  }
 ],
 "metadata": {
  "interpreter": {
   "hash": "f08154012ddadd8e950e6e9e035c7a7b32c136e7647e9b7c77e02eb723a8bedb"
  },
  "kernelspec": {
   "display_name": "Python 3.8.5 ('base')",
   "language": "python",
   "name": "python3"
  },
  "language_info": {
   "codemirror_mode": {
    "name": "ipython",
    "version": 3
   },
   "file_extension": ".py",
   "mimetype": "text/x-python",
   "name": "python",
   "nbconvert_exporter": "python",
   "pygments_lexer": "ipython3",
   "version": "3.8.5"
  },
  "orig_nbformat": 4
 },
 "nbformat": 4,
 "nbformat_minor": 2
}
